{
 "cells": [
  {
   "cell_type": "markdown",
   "id": "70674e25",
   "metadata": {},
   "source": [
    "### Stars Machine Learning\n"
   ]
  },
  {
   "cell_type": "markdown",
   "id": "4295ec4e",
   "metadata": {},
   "source": [
    "- imports\n",
    "- helper functions\n",
    "- Read\n",
    "- Formate\n",
    "- Feature Engineering\n",
    "- Drop not needed columns\n",
    "- Create X, y\n",
    "- Build our feature list for cat. and numeric\n",
    "- Dummy variables and label encoder\n",
    "- Split the data\n",
    "- Baseline Model with numerical cols (Expr0)\n",
    "- Expr1: with all the data (dummy included)\n",
    "- Expr2: with scaling (standard scaler or minmax scaler)\n",
    "- Expr3: with grid search"
   ]
  },
  {
   "cell_type": "code",
   "execution_count": 1,
   "id": "206c84f3",
   "metadata": {},
   "outputs": [
    {
     "name": "stdout",
     "output_type": "stream",
     "text": [
      "importing......\n",
      "[Done]\n"
     ]
    }
   ],
   "source": [
    "# import\n",
    "print(\"importing......\", flush=True)\n",
    "import pandas as pd\n",
    "import numpy as np\n",
    "from sklearn.linear_model import LinearRegression\n",
    "from sklearn.linear_model import LogisticRegression\n",
    "from sklearn.model_selection import train_test_split, GridSearchCV\n",
    "from sklearn.preprocessing import StandardScaler, MinMaxScaler\n",
    "from sklearn.metrics import precision_score, recall_score, precision_recall_curve, fbeta_score, confusion_matrix, classification_report, make_scorer\n",
    "import matplotlib.pyplot as plt\n",
    "import seaborn as sns\n",
    "from sklearn.metrics import f1_score, roc_auc_score\n",
    "from sklearn.tree import DecisionTreeClassifier\n",
    "from sklearn.ensemble import RandomForestClassifier\n",
    "from sklearn.neighbors import KNeighborsClassifier\n",
    "from sklearn.neighbors import KNeighborsClassifier\n",
    "from sklearn.linear_model import LogisticRegression\n",
    "from sklearn.tree import DecisionTreeClassifier\n",
    "from sklearn.metrics import accuracy_score\n",
    "from sklearn.ensemble import RandomForestClassifier, ExtraTreesClassifier, VotingClassifier\n",
    "\n",
    "from mlxtend.classifier import StackingClassifier \n",
    "print(\"[Done]\")"
   ]
  },
  {
   "cell_type": "code",
   "execution_count": 2,
   "id": "6a8c1ed6",
   "metadata": {},
   "outputs": [],
   "source": [
    "# Helper Functions\n",
    "\n",
    "def model_eval(mdl_local, X_local, y_local, bta = 1):\n",
    "    y_pred = mdl_local.predict(X_local)\n",
    "    print(f\"F({bta}):\", fbeta_score(y_local, y_pred, beta= bta))\n",
    "    print(\"Precision :\", precision_score(y_local, y_pred))\n",
    "    print(\"Recall :\", recall_score(y_local, y_pred))\n",
    "    \n",
    "def make_confusion_matrix(model, X_local, y_local, threshold=0.5):\n",
    "    # Predict class 1 if probability of being in class 1 is greater than threshold\n",
    "    # (model.predict(X_test) does this automatically with a threshold of 0.5)\n",
    "    y_predict = (model.predict_proba(X_local)[:, 1] >= threshold)\n",
    "    fraud_confusion = confusion_matrix(y_local, y_predict)\n",
    "    plt.figure(dpi=80)\n",
    "    sns.heatmap(fraud_confusion, cmap=plt.cm.Blues, annot=True, square=True, fmt='d',\n",
    "           xticklabels=['Died', 'Survived'],\n",
    "           yticklabels=['Died', 'Survived']);\n",
    "    plt.xlabel('prediction')\n",
    "    plt.ylabel('actual')\n",
    "    \n",
    "def make_class_report(model, X_local, y_local, threshold=0.5):\n",
    "    # Predict class 1 if probability of being in class 1 is greater than threshold\n",
    "    # (model.predict(X_test) does this automatically with a threshold of 0.5)\n",
    "    y_predict = (model.predict_proba(X_local)[:, 1] >= threshold)\n",
    "    print(classification_report(y_local, y_predict))"
   ]
  },
  {
   "cell_type": "code",
   "execution_count": null,
   "id": "73508806",
   "metadata": {},
   "outputs": [],
   "source": []
  }
 ],
 "metadata": {
  "kernelspec": {
   "display_name": "Python 3",
   "language": "python",
   "name": "python3"
  },
  "language_info": {
   "codemirror_mode": {
    "name": "ipython",
    "version": 3
   },
   "file_extension": ".py",
   "mimetype": "text/x-python",
   "name": "python",
   "nbconvert_exporter": "python",
   "pygments_lexer": "ipython3",
   "version": "3.8.8"
  }
 },
 "nbformat": 4,
 "nbformat_minor": 5
}
